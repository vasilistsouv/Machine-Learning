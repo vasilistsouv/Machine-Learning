{
 "cells": [
  {
   "cell_type": "code",
   "execution_count": 33,
   "id": "ed74e339",
   "metadata": {},
   "outputs": [],
   "source": [
    "import numpy as np\n",
    "import pandas as pd\n",
    "import matplotlib.pyplot as plt\n",
    "import seaborn as sns\n",
    "from sklearn.model_selection import train_test_split\n",
    "from sklearn.ensemble import RandomForestRegressor\n",
    "from sklearn import metrics"
   ]
  },
  {
   "cell_type": "code",
   "execution_count": 34,
   "id": "03acae34",
   "metadata": {},
   "outputs": [],
   "source": [
    "df=pd.read_csv(r\"C:\\Users\\Nomitech\\Desktop\\Machine learning\\gld_price_data.csv\")"
   ]
  },
  {
   "cell_type": "code",
   "execution_count": 35,
   "id": "ddc97ef1",
   "metadata": {},
   "outputs": [
    {
     "data": {
      "text/html": [
       "<div>\n",
       "<style scoped>\n",
       "    .dataframe tbody tr th:only-of-type {\n",
       "        vertical-align: middle;\n",
       "    }\n",
       "\n",
       "    .dataframe tbody tr th {\n",
       "        vertical-align: top;\n",
       "    }\n",
       "\n",
       "    .dataframe thead th {\n",
       "        text-align: right;\n",
       "    }\n",
       "</style>\n",
       "<table border=\"1\" class=\"dataframe\">\n",
       "  <thead>\n",
       "    <tr style=\"text-align: right;\">\n",
       "      <th></th>\n",
       "      <th>Date</th>\n",
       "      <th>SPX</th>\n",
       "      <th>GLD</th>\n",
       "      <th>USO</th>\n",
       "      <th>SLV</th>\n",
       "      <th>EUR/USD</th>\n",
       "    </tr>\n",
       "  </thead>\n",
       "  <tbody>\n",
       "    <tr>\n",
       "      <th>0</th>\n",
       "      <td>1/2/2008</td>\n",
       "      <td>1447.160034</td>\n",
       "      <td>84.860001</td>\n",
       "      <td>78.470001</td>\n",
       "      <td>15.180</td>\n",
       "      <td>1.471692</td>\n",
       "    </tr>\n",
       "    <tr>\n",
       "      <th>1</th>\n",
       "      <td>1/3/2008</td>\n",
       "      <td>1447.160034</td>\n",
       "      <td>85.570000</td>\n",
       "      <td>78.370003</td>\n",
       "      <td>15.285</td>\n",
       "      <td>1.474491</td>\n",
       "    </tr>\n",
       "    <tr>\n",
       "      <th>2</th>\n",
       "      <td>1/4/2008</td>\n",
       "      <td>1411.630005</td>\n",
       "      <td>85.129997</td>\n",
       "      <td>77.309998</td>\n",
       "      <td>15.167</td>\n",
       "      <td>1.475492</td>\n",
       "    </tr>\n",
       "    <tr>\n",
       "      <th>3</th>\n",
       "      <td>1/7/2008</td>\n",
       "      <td>1416.180054</td>\n",
       "      <td>84.769997</td>\n",
       "      <td>75.500000</td>\n",
       "      <td>15.053</td>\n",
       "      <td>1.468299</td>\n",
       "    </tr>\n",
       "    <tr>\n",
       "      <th>4</th>\n",
       "      <td>1/8/2008</td>\n",
       "      <td>1390.189941</td>\n",
       "      <td>86.779999</td>\n",
       "      <td>76.059998</td>\n",
       "      <td>15.590</td>\n",
       "      <td>1.557099</td>\n",
       "    </tr>\n",
       "  </tbody>\n",
       "</table>\n",
       "</div>"
      ],
      "text/plain": [
       "       Date          SPX        GLD        USO     SLV   EUR/USD\n",
       "0  1/2/2008  1447.160034  84.860001  78.470001  15.180  1.471692\n",
       "1  1/3/2008  1447.160034  85.570000  78.370003  15.285  1.474491\n",
       "2  1/4/2008  1411.630005  85.129997  77.309998  15.167  1.475492\n",
       "3  1/7/2008  1416.180054  84.769997  75.500000  15.053  1.468299\n",
       "4  1/8/2008  1390.189941  86.779999  76.059998  15.590  1.557099"
      ]
     },
     "execution_count": 35,
     "metadata": {},
     "output_type": "execute_result"
    }
   ],
   "source": [
    "df.head()"
   ]
  },
  {
   "cell_type": "code",
   "execution_count": 36,
   "id": "d03f4680",
   "metadata": {},
   "outputs": [],
   "source": [
    "#Getting some Basic information"
   ]
  },
  {
   "cell_type": "code",
   "execution_count": 37,
   "id": "500e9d12",
   "metadata": {},
   "outputs": [
    {
     "name": "stdout",
     "output_type": "stream",
     "text": [
      "<class 'pandas.core.frame.DataFrame'>\n",
      "RangeIndex: 2290 entries, 0 to 2289\n",
      "Data columns (total 6 columns):\n",
      " #   Column   Non-Null Count  Dtype  \n",
      "---  ------   --------------  -----  \n",
      " 0   Date     2290 non-null   object \n",
      " 1   SPX      2290 non-null   float64\n",
      " 2   GLD      2290 non-null   float64\n",
      " 3   USO      2290 non-null   float64\n",
      " 4   SLV      2290 non-null   float64\n",
      " 5   EUR/USD  2290 non-null   float64\n",
      "dtypes: float64(5), object(1)\n",
      "memory usage: 107.5+ KB\n"
     ]
    }
   ],
   "source": [
    "df.info()"
   ]
  },
  {
   "cell_type": "code",
   "execution_count": 38,
   "id": "a78ab626",
   "metadata": {},
   "outputs": [],
   "source": [
    "#Checking the missing values"
   ]
  },
  {
   "cell_type": "code",
   "execution_count": 39,
   "id": "c40882bb",
   "metadata": {},
   "outputs": [
    {
     "data": {
      "text/plain": [
       "Date       0\n",
       "SPX        0\n",
       "GLD        0\n",
       "USO        0\n",
       "SLV        0\n",
       "EUR/USD    0\n",
       "dtype: int64"
      ]
     },
     "execution_count": 39,
     "metadata": {},
     "output_type": "execute_result"
    }
   ],
   "source": [
    "df.isnull().sum()"
   ]
  },
  {
   "cell_type": "code",
   "execution_count": 40,
   "id": "203eb6f1",
   "metadata": {},
   "outputs": [
    {
     "data": {
      "text/html": [
       "<div>\n",
       "<style scoped>\n",
       "    .dataframe tbody tr th:only-of-type {\n",
       "        vertical-align: middle;\n",
       "    }\n",
       "\n",
       "    .dataframe tbody tr th {\n",
       "        vertical-align: top;\n",
       "    }\n",
       "\n",
       "    .dataframe thead th {\n",
       "        text-align: right;\n",
       "    }\n",
       "</style>\n",
       "<table border=\"1\" class=\"dataframe\">\n",
       "  <thead>\n",
       "    <tr style=\"text-align: right;\">\n",
       "      <th></th>\n",
       "      <th>SPX</th>\n",
       "      <th>GLD</th>\n",
       "      <th>USO</th>\n",
       "      <th>SLV</th>\n",
       "      <th>EUR/USD</th>\n",
       "    </tr>\n",
       "  </thead>\n",
       "  <tbody>\n",
       "    <tr>\n",
       "      <th>count</th>\n",
       "      <td>2290.000000</td>\n",
       "      <td>2290.000000</td>\n",
       "      <td>2290.000000</td>\n",
       "      <td>2290.000000</td>\n",
       "      <td>2290.000000</td>\n",
       "    </tr>\n",
       "    <tr>\n",
       "      <th>mean</th>\n",
       "      <td>1654.315776</td>\n",
       "      <td>122.732875</td>\n",
       "      <td>31.842221</td>\n",
       "      <td>20.084997</td>\n",
       "      <td>1.283653</td>\n",
       "    </tr>\n",
       "    <tr>\n",
       "      <th>std</th>\n",
       "      <td>519.111540</td>\n",
       "      <td>23.283346</td>\n",
       "      <td>19.523517</td>\n",
       "      <td>7.092566</td>\n",
       "      <td>0.131547</td>\n",
       "    </tr>\n",
       "    <tr>\n",
       "      <th>min</th>\n",
       "      <td>676.530029</td>\n",
       "      <td>70.000000</td>\n",
       "      <td>7.960000</td>\n",
       "      <td>8.850000</td>\n",
       "      <td>1.039047</td>\n",
       "    </tr>\n",
       "    <tr>\n",
       "      <th>25%</th>\n",
       "      <td>1239.874969</td>\n",
       "      <td>109.725000</td>\n",
       "      <td>14.380000</td>\n",
       "      <td>15.570000</td>\n",
       "      <td>1.171313</td>\n",
       "    </tr>\n",
       "    <tr>\n",
       "      <th>50%</th>\n",
       "      <td>1551.434998</td>\n",
       "      <td>120.580002</td>\n",
       "      <td>33.869999</td>\n",
       "      <td>17.268500</td>\n",
       "      <td>1.303297</td>\n",
       "    </tr>\n",
       "    <tr>\n",
       "      <th>75%</th>\n",
       "      <td>2073.010070</td>\n",
       "      <td>132.840004</td>\n",
       "      <td>37.827501</td>\n",
       "      <td>22.882500</td>\n",
       "      <td>1.369971</td>\n",
       "    </tr>\n",
       "    <tr>\n",
       "      <th>max</th>\n",
       "      <td>2872.870117</td>\n",
       "      <td>184.589996</td>\n",
       "      <td>117.480003</td>\n",
       "      <td>47.259998</td>\n",
       "      <td>1.598798</td>\n",
       "    </tr>\n",
       "  </tbody>\n",
       "</table>\n",
       "</div>"
      ],
      "text/plain": [
       "               SPX          GLD          USO          SLV      EUR/USD\n",
       "count  2290.000000  2290.000000  2290.000000  2290.000000  2290.000000\n",
       "mean   1654.315776   122.732875    31.842221    20.084997     1.283653\n",
       "std     519.111540    23.283346    19.523517     7.092566     0.131547\n",
       "min     676.530029    70.000000     7.960000     8.850000     1.039047\n",
       "25%    1239.874969   109.725000    14.380000    15.570000     1.171313\n",
       "50%    1551.434998   120.580002    33.869999    17.268500     1.303297\n",
       "75%    2073.010070   132.840004    37.827501    22.882500     1.369971\n",
       "max    2872.870117   184.589996   117.480003    47.259998     1.598798"
      ]
     },
     "execution_count": 40,
     "metadata": {},
     "output_type": "execute_result"
    }
   ],
   "source": [
    "df.describe()\n",
    "#getting some statistical information"
   ]
  },
  {
   "cell_type": "code",
   "execution_count": 41,
   "id": "29e46910",
   "metadata": {},
   "outputs": [],
   "source": [
    "correlation = df.corr()"
   ]
  },
  {
   "cell_type": "code",
   "execution_count": 42,
   "id": "f3eadef9",
   "metadata": {},
   "outputs": [
    {
     "data": {
      "text/html": [
       "<div>\n",
       "<style scoped>\n",
       "    .dataframe tbody tr th:only-of-type {\n",
       "        vertical-align: middle;\n",
       "    }\n",
       "\n",
       "    .dataframe tbody tr th {\n",
       "        vertical-align: top;\n",
       "    }\n",
       "\n",
       "    .dataframe thead th {\n",
       "        text-align: right;\n",
       "    }\n",
       "</style>\n",
       "<table border=\"1\" class=\"dataframe\">\n",
       "  <thead>\n",
       "    <tr style=\"text-align: right;\">\n",
       "      <th></th>\n",
       "      <th>SPX</th>\n",
       "      <th>GLD</th>\n",
       "      <th>USO</th>\n",
       "      <th>SLV</th>\n",
       "      <th>EUR/USD</th>\n",
       "    </tr>\n",
       "  </thead>\n",
       "  <tbody>\n",
       "    <tr>\n",
       "      <th>SPX</th>\n",
       "      <td>1.000000</td>\n",
       "      <td>0.049345</td>\n",
       "      <td>-0.591573</td>\n",
       "      <td>-0.274055</td>\n",
       "      <td>-0.672017</td>\n",
       "    </tr>\n",
       "    <tr>\n",
       "      <th>GLD</th>\n",
       "      <td>0.049345</td>\n",
       "      <td>1.000000</td>\n",
       "      <td>-0.186360</td>\n",
       "      <td>0.866632</td>\n",
       "      <td>-0.024375</td>\n",
       "    </tr>\n",
       "    <tr>\n",
       "      <th>USO</th>\n",
       "      <td>-0.591573</td>\n",
       "      <td>-0.186360</td>\n",
       "      <td>1.000000</td>\n",
       "      <td>0.167547</td>\n",
       "      <td>0.829317</td>\n",
       "    </tr>\n",
       "    <tr>\n",
       "      <th>SLV</th>\n",
       "      <td>-0.274055</td>\n",
       "      <td>0.866632</td>\n",
       "      <td>0.167547</td>\n",
       "      <td>1.000000</td>\n",
       "      <td>0.321631</td>\n",
       "    </tr>\n",
       "    <tr>\n",
       "      <th>EUR/USD</th>\n",
       "      <td>-0.672017</td>\n",
       "      <td>-0.024375</td>\n",
       "      <td>0.829317</td>\n",
       "      <td>0.321631</td>\n",
       "      <td>1.000000</td>\n",
       "    </tr>\n",
       "  </tbody>\n",
       "</table>\n",
       "</div>"
      ],
      "text/plain": [
       "              SPX       GLD       USO       SLV   EUR/USD\n",
       "SPX      1.000000  0.049345 -0.591573 -0.274055 -0.672017\n",
       "GLD      0.049345  1.000000 -0.186360  0.866632 -0.024375\n",
       "USO     -0.591573 -0.186360  1.000000  0.167547  0.829317\n",
       "SLV     -0.274055  0.866632  0.167547  1.000000  0.321631\n",
       "EUR/USD -0.672017 -0.024375  0.829317  0.321631  1.000000"
      ]
     },
     "execution_count": 42,
     "metadata": {},
     "output_type": "execute_result"
    }
   ],
   "source": [
    "correlation"
   ]
  },
  {
   "cell_type": "markdown",
   "id": "5274fa68",
   "metadata": {},
   "source": [
    "### Correlation notation"
   ]
  },
  {
   "cell_type": "markdown",
   "id": "a6d9fa09",
   "metadata": {},
   "source": [
    "We describe correlations with a unit-free measure called the correlation coefficient which ranges from -1 to +1 and is denoted by r. Statistical significance is indicated with a p-value. Therefore, correlations are typically written with two key numbers: r = and p = .\n",
    "\n",
    "The closer r is to zero, the weaker the linear relationship.\n",
    "Positive r values indicate a positive correlation, where the values of both variables tend to increase together.\n",
    "Negative r values indicate a negative correlation, where the values of one variable tend to increase when the values of the other variable decrease.\n"
   ]
  },
  {
   "cell_type": "code",
   "execution_count": 43,
   "id": "fdc635fa",
   "metadata": {},
   "outputs": [],
   "source": [
    "##Contructing a heatmap"
   ]
  },
  {
   "cell_type": "code",
   "execution_count": 44,
   "id": "6c940fb7",
   "metadata": {},
   "outputs": [
    {
     "data": {
      "text/plain": [
       "<AxesSubplot:>"
      ]
     },
     "execution_count": 44,
     "metadata": {},
     "output_type": "execute_result"
    },
    {
     "data": {
      "image/png": "[encoded data removed]",
      "text/plain": [
       "<Figure size 576x576 with 2 Axes>"
      ]
     },
     "metadata": {
      "needs_background": "light"
     },
     "output_type": "display_data"
    }
   ],
   "source": [
    "plt.figure(figsize=(8,8))\n",
    "sns.heatmap(correlation,cbar=True,square=True,fmt='.1f',annot=True,annot_kws={'size':8} ,cmap='Blues')"
   ]
  },
  {
   "cell_type": "code",
   "execution_count": 45,
   "id": "e92ab290",
   "metadata": {},
   "outputs": [],
   "source": [
    "#Checking Distribution"
   ]
  },
  {
   "cell_type": "code",
   "execution_count": 46,
   "id": "37e32e57",
   "metadata": {},
   "outputs": [
    {
     "name": "stderr",
     "output_type": "stream",
     "text": [
      "C:\\Users\\Nomitech\\anaconda3\\lib\\site-packages\\seaborn\\distributions.py:2557: FutureWarning: `distplot` is a deprecated function and will be removed in a future version. Please adapt your code to use either `displot` (a figure-level function with similar flexibility) or `histplot` (an axes-level function for histograms).\n",
      "  warnings.warn(msg, FutureWarning)\n"
     ]
    },
    {
     "data": {
      "text/plain": [
       "<AxesSubplot:xlabel='GLD', ylabel='Density'>"
      ]
     },
     "execution_count": 46,
     "metadata": {},
     "output_type": "execute_result"
    },
    {
     "data": {
      "image/png": "[encoded data removed]",
      "text/plain": [
       "<Figure size 432x288 with 1 Axes>"
      ]
     },
     "metadata": {
      "needs_background": "light"
     },
     "output_type": "display_data"
    }
   ],
   "source": [
    "sns.distplot(df['GLD'],color='green')\n",
    "#the the majority of data are around the mean "
   ]
  },
  {
   "cell_type": "code",
   "execution_count": 47,
   "id": "f5b74607",
   "metadata": {},
   "outputs": [],
   "source": [
    "#Splitting the Features and Target Variable"
   ]
  },
  {
   "cell_type": "code",
   "execution_count": 48,
   "id": "6bea49ac",
   "metadata": {},
   "outputs": [],
   "source": [
    "x = df.drop(['Date','GLD'],axis=1)\n",
    "y = df['GLD']"
   ]
  },
  {
   "cell_type": "code",
   "execution_count": 49,
   "id": "b0281424",
   "metadata": {},
   "outputs": [
    {
     "data": {
      "text/html": [
       "<div>\n",
       "<style scoped>\n",
       "    .dataframe tbody tr th:only-of-type {\n",
       "        vertical-align: middle;\n",
       "    }\n",
       "\n",
       "    .dataframe tbody tr th {\n",
       "        vertical-align: top;\n",
       "    }\n",
       "\n",
       "    .dataframe thead th {\n",
       "        text-align: right;\n",
       "    }\n",
       "</style>\n",
       "<table border=\"1\" class=\"dataframe\">\n",
       "  <thead>\n",
       "    <tr style=\"text-align: right;\">\n",
       "      <th></th>\n",
       "      <th>SPX</th>\n",
       "      <th>USO</th>\n",
       "      <th>SLV</th>\n",
       "      <th>EUR/USD</th>\n",
       "    </tr>\n",
       "  </thead>\n",
       "  <tbody>\n",
       "    <tr>\n",
       "      <th>0</th>\n",
       "      <td>1447.160034</td>\n",
       "      <td>78.470001</td>\n",
       "      <td>15.1800</td>\n",
       "      <td>1.471692</td>\n",
       "    </tr>\n",
       "    <tr>\n",
       "      <th>1</th>\n",
       "      <td>1447.160034</td>\n",
       "      <td>78.370003</td>\n",
       "      <td>15.2850</td>\n",
       "      <td>1.474491</td>\n",
       "    </tr>\n",
       "    <tr>\n",
       "      <th>2</th>\n",
       "      <td>1411.630005</td>\n",
       "      <td>77.309998</td>\n",
       "      <td>15.1670</td>\n",
       "      <td>1.475492</td>\n",
       "    </tr>\n",
       "    <tr>\n",
       "      <th>3</th>\n",
       "      <td>1416.180054</td>\n",
       "      <td>75.500000</td>\n",
       "      <td>15.0530</td>\n",
       "      <td>1.468299</td>\n",
       "    </tr>\n",
       "    <tr>\n",
       "      <th>4</th>\n",
       "      <td>1390.189941</td>\n",
       "      <td>76.059998</td>\n",
       "      <td>15.5900</td>\n",
       "      <td>1.557099</td>\n",
       "    </tr>\n",
       "    <tr>\n",
       "      <th>...</th>\n",
       "      <td>...</td>\n",
       "      <td>...</td>\n",
       "      <td>...</td>\n",
       "      <td>...</td>\n",
       "    </tr>\n",
       "    <tr>\n",
       "      <th>2285</th>\n",
       "      <td>2671.919922</td>\n",
       "      <td>14.060000</td>\n",
       "      <td>15.5100</td>\n",
       "      <td>1.186789</td>\n",
       "    </tr>\n",
       "    <tr>\n",
       "      <th>2286</th>\n",
       "      <td>2697.790039</td>\n",
       "      <td>14.370000</td>\n",
       "      <td>15.5300</td>\n",
       "      <td>1.184722</td>\n",
       "    </tr>\n",
       "    <tr>\n",
       "      <th>2287</th>\n",
       "      <td>2723.070068</td>\n",
       "      <td>14.410000</td>\n",
       "      <td>15.7400</td>\n",
       "      <td>1.191753</td>\n",
       "    </tr>\n",
       "    <tr>\n",
       "      <th>2288</th>\n",
       "      <td>2730.129883</td>\n",
       "      <td>14.380000</td>\n",
       "      <td>15.5600</td>\n",
       "      <td>1.193118</td>\n",
       "    </tr>\n",
       "    <tr>\n",
       "      <th>2289</th>\n",
       "      <td>2725.780029</td>\n",
       "      <td>14.405800</td>\n",
       "      <td>15.4542</td>\n",
       "      <td>1.182033</td>\n",
       "    </tr>\n",
       "  </tbody>\n",
       "</table>\n",
       "<p>2290 rows × 4 columns</p>\n",
       "</div>"
      ],
      "text/plain": [
       "              SPX        USO      SLV   EUR/USD\n",
       "0     1447.160034  78.470001  15.1800  1.471692\n",
       "1     1447.160034  78.370003  15.2850  1.474491\n",
       "2     1411.630005  77.309998  15.1670  1.475492\n",
       "3     1416.180054  75.500000  15.0530  1.468299\n",
       "4     1390.189941  76.059998  15.5900  1.557099\n",
       "...           ...        ...      ...       ...\n",
       "2285  2671.919922  14.060000  15.5100  1.186789\n",
       "2286  2697.790039  14.370000  15.5300  1.184722\n",
       "2287  2723.070068  14.410000  15.7400  1.191753\n",
       "2288  2730.129883  14.380000  15.5600  1.193118\n",
       "2289  2725.780029  14.405800  15.4542  1.182033\n",
       "\n",
       "[2290 rows x 4 columns]"
      ]
     },
     "execution_count": 49,
     "metadata": {},
     "output_type": "execute_result"
    }
   ],
   "source": [
    "x"
   ]
  },
  {
   "cell_type": "code",
   "execution_count": 26,
   "id": "691da6a0",
   "metadata": {},
   "outputs": [
    {
     "data": {
      "text/plain": [
       "0        84.860001\n",
       "1        85.570000\n",
       "2        85.129997\n",
       "3        84.769997\n",
       "4        86.779999\n",
       "           ...    \n",
       "2285    124.589996\n",
       "2286    124.330002\n",
       "2287    125.180000\n",
       "2288    124.489998\n",
       "2289    122.543800\n",
       "Name: GLD, Length: 2290, dtype: float64"
      ]
     },
     "execution_count": 26,
     "metadata": {},
     "output_type": "execute_result"
    }
   ],
   "source": [
    "y"
   ]
  },
  {
   "cell_type": "code",
   "execution_count": 29,
   "id": "cc9ea21c",
   "metadata": {},
   "outputs": [],
   "source": [
    "#Splitting into Training and Test Set"
   ]
  },
  {
   "cell_type": "code",
   "execution_count": 50,
   "id": "0d3c2ba2",
   "metadata": {},
   "outputs": [],
   "source": [
    "x_train,x_test,y_train,y_test = train_test_split(x,y,test_size=0.2,random_state=2)"
   ]
  },
  {
   "cell_type": "markdown",
   "id": "a19a134c",
   "metadata": {},
   "source": [
    "###  Model Training"
   ]
  },
  {
   "cell_type": "code",
   "execution_count": 51,
   "id": "f66dcc84",
   "metadata": {},
   "outputs": [
    {
     "data": {
      "text/plain": [
       "RandomForestRegressor()"
      ]
     },
     "execution_count": 51,
     "metadata": {},
     "output_type": "execute_result"
    }
   ],
   "source": [
    "#We train the data with the features and the target variable\n",
    "regressor = RandomForestRegressor(n_estimators=100)\n",
    "regressor.fit(x_train,y_train)\n"
   ]
  },
  {
   "cell_type": "code",
   "execution_count": 52,
   "id": "036ab0e4",
   "metadata": {},
   "outputs": [
    {
     "data": {
      "text/plain": [
       "array([168.69069975,  82.09239979, 116.08750058, 127.73550066,\n",
       "       120.76100063, 154.6969972 , 150.28819892, 126.00010008,\n",
       "       117.53879877, 126.06670022, 116.57080137, 172.10980101,\n",
       "       141.79679832, 167.94739848, 115.10769987, 117.88620033,\n",
       "       138.06850436, 170.16270102, 159.36260277, 159.29699942,\n",
       "       155.10729973, 125.00250019, 175.22840054, 157.30330432,\n",
       "       125.18920042,  93.74489976,  77.00440046, 120.45900027,\n",
       "       119.07379974, 167.4883994 ,  88.14690058, 125.15659985,\n",
       "        91.18360077, 117.858     , 121.00989877, 136.62220118,\n",
       "       115.65800109, 114.96030084, 146.83479921, 107.17170066,\n",
       "       104.53990261,  87.09109779, 126.52920043, 117.98910023,\n",
       "       152.99669911, 119.60510011, 108.50329967, 108.18189821,\n",
       "        93.12860038, 127.11569807,  74.68110035, 113.62649952,\n",
       "       121.37350017, 111.05429903, 118.83359888, 120.31969931,\n",
       "       159.47919989, 167.89940123, 146.91749675,  85.85789887,\n",
       "        94.39060033,  86.79789918,  90.69470014, 118.90940089,\n",
       "       126.45610054, 127.63460014, 169.5812003 , 122.27419912,\n",
       "       117.38159908,  98.95240063, 168.74200109, 142.9106977 ,\n",
       "       132.45230294, 121.20130234, 120.94309964, 119.70320043,\n",
       "       114.64070143, 118.3758004 , 107.06240099, 127.9425999 ,\n",
       "       114.04459955, 107.8071998 , 116.68000057, 119.61159836,\n",
       "        88.76440063,  88.27229859, 147.00870224, 127.36090012,\n",
       "       113.45050025, 109.87269849, 107.88429918,  77.00159944,\n",
       "       170.42540245, 114.19529912, 121.63799903, 127.88770208,\n",
       "       154.86859756,  91.84229919, 136.62240091, 158.87280296,\n",
       "       125.83370086, 125.47940064, 130.63160201, 114.86730114,\n",
       "       119.82559984,  92.06560002, 110.13589904, 167.52720021,\n",
       "       156.27319964, 114.22129939, 106.67770128,  79.43409975,\n",
       "       113.15150054, 125.81750072, 107.16519922, 119.42980064,\n",
       "       155.73360361, 159.60589938, 120.29169987, 134.77000283,\n",
       "       101.5308998 , 117.43249776, 119.15710025, 113.01910074,\n",
       "       102.73609923, 160.17269804,  99.46180094, 147.79269901,\n",
       "       125.70850097, 169.64379884, 125.52009889, 127.35939748,\n",
       "       127.51990204, 113.73089968, 112.91850052, 123.62019942,\n",
       "       102.16179886,  89.41039987, 124.51409969, 101.6591993 ,\n",
       "       107.12769948, 113.76540069, 117.49310048,  99.9007998 ,\n",
       "       121.72210045, 163.25729892,  87.31669859, 106.81920003,\n",
       "       117.4429007 , 127.75540073, 124.14160044,  80.79769914,\n",
       "       120.48230042, 158.12149781,  87.95419931, 110.31089952,\n",
       "       118.80049885, 172.5776992 , 102.91689933, 105.77080042,\n",
       "       122.50220057, 159.26769726,  87.7479983 ,  93.0408002 ,\n",
       "       112.69350017, 176.56499991, 114.19389957, 119.17890027,\n",
       "        94.76820118, 125.73450066, 166.37620097, 114.88900053,\n",
       "       116.95330132,  88.3560987 , 148.96340117, 120.26929928,\n",
       "        89.4257998 , 111.87169979, 117.25350051, 118.77520122,\n",
       "        88.13449935,  94.12429969, 117.08470009, 118.44690199,\n",
       "       120.33220078, 126.87659795, 121.93249966, 150.01220033,\n",
       "       165.66980041, 118.5426994 , 120.39510141, 151.44850021,\n",
       "       118.40799921, 172.79789895, 105.46679934, 104.95200076,\n",
       "       148.9776013 , 113.80160058, 124.7475012 , 147.4179996 ,\n",
       "       119.59840145, 115.55640064, 112.82939985, 113.42580218,\n",
       "       143.83570124, 117.69479775, 102.92550054, 115.94930102,\n",
       "       103.78150182,  99.08150064, 117.26890078,  90.83210054,\n",
       "        91.63150023, 153.32339846, 102.75050023, 154.75940088,\n",
       "       114.34720169, 139.12280048,  90.08959823, 115.43579911,\n",
       "       114.66069978, 122.91710042, 121.90930012, 165.36590172,\n",
       "        92.94509938, 135.02640119, 121.29609924, 120.8404005 ,\n",
       "       104.58790007, 143.7934025 , 121.69279895, 116.53580028,\n",
       "       113.22640106, 127.18119738, 122.7960991 , 125.71759955,\n",
       "       121.1776004 ,  86.92339877, 132.59520177, 145.55590222,\n",
       "        92.81609949, 159.42120081, 158.70620229, 126.35989885,\n",
       "       165.03739955, 108.75469971, 110.11280091, 103.68069828,\n",
       "        94.30520047, 127.59670241, 107.07410082, 162.45280036,\n",
       "       121.74130034, 131.8027998 , 130.58530197, 161.28829952,\n",
       "        90.18269841, 174.31320211, 128.27960056, 126.7772984 ,\n",
       "        86.21389852, 124.53289928, 150.3086973 ,  89.54830019,\n",
       "       106.91339999, 108.86920011,  84.16759905, 136.30369913,\n",
       "       154.789702  , 140.77810297,  74.0468004 , 152.47360108,\n",
       "       126.23810056, 126.73220002, 127.53269847, 108.60459961,\n",
       "       156.57789957, 114.63220106, 116.84780159, 125.42609967,\n",
       "       154.13720147, 121.30719969, 156.48799824,  92.90480062,\n",
       "       125.46310118, 125.46640034,  87.84790042,  91.94299942,\n",
       "       126.14239915, 128.306604  , 113.21660047, 117.73829731,\n",
       "       121.11820021, 127.12409734, 119.41890099, 136.60160089,\n",
       "        93.85689928, 119.91910035, 113.20340107,  94.39879971,\n",
       "       108.83209944,  87.12299927, 108.88139945,  89.43769978,\n",
       "        92.54980004, 131.44300369, 162.17840067,  89.34620023,\n",
       "       119.79180076, 133.46870198, 123.68580016, 128.43560236,\n",
       "       102.0397985 ,  89.07029863, 131.40120059, 119.74110042,\n",
       "       108.6458998 , 168.5894008 , 115.32090031,  86.59969908,\n",
       "       118.65850067,  91.01129965, 162.01990007, 116.37110035,\n",
       "       121.51589992, 160.20539834, 120.32049913, 112.98519938,\n",
       "       108.53819875, 126.75320012,  76.37410034, 102.94029981,\n",
       "       127.65420249, 121.94699928,  92.63499954, 132.57770081,\n",
       "       118.33760103, 115.82319982, 154.35190285, 158.66880082,\n",
       "       110.05929971, 154.21169853, 119.48900079, 160.86220064,\n",
       "       118.49510089, 158.80409962, 115.05239931, 116.45180029,\n",
       "       148.33079836, 114.71630082, 125.88149912, 166.17279983,\n",
       "       117.82859991, 125.23079963, 153.13700331, 153.37560253,\n",
       "       132.08740007, 114.7122006 , 121.2361023 , 125.03450087,\n",
       "        89.88360041, 123.47109944, 155.70740279, 111.80390027,\n",
       "       106.85610022, 161.81470068, 118.48569984, 165.68820002,\n",
       "       134.18420096, 114.92669976, 153.06299911, 168.5111995 ,\n",
       "       115.02819977, 114.06920138, 158.20269886,  85.19009924,\n",
       "       127.03540045, 127.93120033, 128.9443001 , 124.31070075,\n",
       "       123.83750117,  90.75360057, 153.03800017,  96.9909998 ,\n",
       "       137.44409993,  89.11879919, 107.8006    , 115.11080032,\n",
       "       112.7843006 , 124.09139951,  91.53539856, 125.25800091,\n",
       "       162.23819916, 120.08069873, 165.22730029, 126.87329781,\n",
       "       112.34950005, 127.47649923,  94.97589903,  91.13119986,\n",
       "       103.032799  , 120.87400005,  83.34299931, 126.35229973,\n",
       "       160.25130474, 117.31550105, 118.19659996, 119.9945999 ,\n",
       "       122.74369966, 120.16810136, 121.55330009, 118.31550042,\n",
       "       107.08510011, 148.48530055, 125.93539885, 115.77460045,\n",
       "        73.80580001, 127.84080145, 154.9202009 , 122.59740021,\n",
       "       125.55230059,  88.71120034, 103.3446983 , 124.64250016,\n",
       "       120.33860025,  73.30660102, 152.01200011, 121.15680059,\n",
       "       104.7509997 ,  86.42799761, 115.05209916, 172.18429862,\n",
       "       119.97830017, 160.1515982 , 113.22719976, 121.16049994,\n",
       "       118.5560009 ,  96.06049992, 118.64780032, 125.65900078,\n",
       "       118.48459983,  95.81530081, 154.31820108, 122.01870003,\n",
       "       147.45439906, 159.0384026 , 114.01410025, 122.54899935,\n",
       "       149.63569842, 126.9392001 , 165.97590032, 136.14840045,\n",
       "       120.0644998 , 167.24799918, 108.51429908, 121.64499849,\n",
       "       139.14080039, 105.89939871])"
      ]
     },
     "execution_count": 52,
     "metadata": {},
     "output_type": "execute_result"
    }
   ],
   "source": [
    "regressor.predict(x_test)"
   ]
  },
  {
   "cell_type": "code",
   "execution_count": 53,
   "id": "3e71adf7",
   "metadata": {},
   "outputs": [
    {
     "data": {
      "text/plain": [
       "903     168.020004\n",
       "129      81.230003\n",
       "1787    112.320000\n",
       "1913    127.589996\n",
       "2048    119.620003\n",
       "           ...    \n",
       "923     166.380005\n",
       "1693    106.379997\n",
       "2054    122.239998\n",
       "658     133.830002\n",
       "376     102.360001\n",
       "Name: GLD, Length: 458, dtype: float64"
      ]
     },
     "execution_count": 53,
     "metadata": {},
     "output_type": "execute_result"
    }
   ],
   "source": [
    "y_test"
   ]
  },
  {
   "cell_type": "code",
   "execution_count": 54,
   "id": "6f4fcd8c",
   "metadata": {},
   "outputs": [],
   "source": [
    "error_score = metrics.r2_score(y_test,regressor.predict(x_test))"
   ]
  },
  {
   "cell_type": "code",
   "execution_count": 56,
   "id": "16b2b5f4",
   "metadata": {},
   "outputs": [
    {
     "name": "stdout",
     "output_type": "stream",
     "text": [
      "R Square error :  0.9891225490183052\n"
     ]
    }
   ],
   "source": [
    "print(\"R Square error : \", error_score)"
   ]
  },
  {
   "cell_type": "code",
   "execution_count": null,
   "id": "951630bc",
   "metadata": {},
   "outputs": [],
   "source": []
  }
 ],
 "metadata": {
  "kernelspec": {
   "display_name": "Python 3",
   "language": "python",
   "name": "python3"
  },
  "language_info": {
   "codemirror_mode": {
    "name": "ipython",
    "version": 3
   },
   "file_extension": ".py",
   "mimetype": "text/x-python",
   "name": "python",
   "nbconvert_exporter": "python",
   "pygments_lexer": "ipython3",
   "version": "3.8.8"
  }
 },
 "nbformat": 4,
 "nbformat_minor": 5
}
